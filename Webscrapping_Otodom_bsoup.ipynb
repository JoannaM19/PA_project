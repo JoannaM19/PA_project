{
 "cells": [
  {
   "cell_type": "code",
   "execution_count": 26,
   "metadata": {},
   "outputs": [],
   "source": [
    "from selenium import webdriver\n",
    "from bs4 import BeautifulSoup\n",
    "\n",
    "# Define the search query\n",
    "location = input(\"Enter the location: \")\n",
    "min_price = input(\"Enter the minimum price: \")\n",
    "max_price = input(\"Enter the maximum price: \")\n",
    "min_area = input(\"Enter the minimum area: \")\n",
    "max_area = input(\"Enter the maximum area: \")\n",
    "distance = input(\"Enter the maximum distance from location in km: \")\n",
    "listing_type = input(\"Enter listing type (mieszkanie/dom/dzialka): \")\n",
    "offer_type = input(\"Enter offer type (sprzedaz/wynajem): \")\n",
    "\n",
    "# Start the webdriver and load the website\n",
    "url = f\"https://www.otodom.pl/{offer_type}/{listing_type}/{location}/?search%5Bfilter_float_price%3Afrom%5D={min_price}&search%5Bfilter_float_price%3Ato%5D={max_price}&search%5Bfilter_float_m%3Afrom%5D={min_area}&search%5Bfilter_float_m%3Ato%5D={max_area}&search%5Bdist%5D={distance}\"\n",
    "driver = webdriver.Chrome()\n",
    "driver.get(url)\n",
    "\n",
    "# Close Cookies banner\n",
    "cookie_banner = driver.find_element(By.ID,'onetrust-accept-btn-handler')\n",
    "cookie_banner.click()\n",
    "\n",
    "# Parse the HTML using BeautifulSoup\n",
    "soup = BeautifulSoup(driver.page_source, \"html.parser\")\n",
    "\n",
    "# Find all the relevant information\n",
    "records = soup.find_all(\"div\", class_=\"offer-item\")\n"
   ]
  },
  {
   "cell_type": "code",
   "execution_count": 27,
   "metadata": {},
   "outputs": [],
   "source": [
    "# Extract the data from each record\n",
    "for record in records:\n",
    "    # Extract the link to the record\n",
    "    link = record.find(\"a\", class_=\"offer-item-header\").get(\"href\")\n",
    "    \n",
    "    # Extract the price\n",
    "    price = record.find(\"span\", class_=\"offer-item-price\").text.strip()\n",
    "    \n",
    "    # Extract the number of rooms and area\n",
    "    details = record.find(\"ul\", class_=\"offer-item-params\").find_all(\"li\")\n",
    "    rooms = \"\"\n",
    "    area = \"\"\n",
    "    for detail in details:\n",
    "        if \"pokoje\" in detail.text:\n",
    "            rooms = detail.text.strip()\n",
    "        elif \"m²\" in detail.text:\n",
    "            area = detail.text.strip()\n",
    "    \n",
    "    # Extract the description and other features\n",
    "    description = record.find(\"p\", class_=\"text-nowrap\").text.strip()\n",
    "    features = []\n",
    "    for feature in record.find_all(\"li\", class_=\"offer-item-features-item\"):\n",
    "        features.append(feature.text.strip())\n",
    "    features = \", \".join(features)\n",
    "    \n",
    "    # Extract the position on a map\n",
    "    position = record.find(\"a\", class_=\"offer-item-map-link\").get(\"data-map-lat-lng\")\n",
    "    \n",
    "    # Extract the type of housing, if it is for sale or rent, location, and maximum distance from location\n",
    "    offer_type = record.find(\"span\", class_=\"offer-item-title\").text.strip()\n",
    "    location = record.find(\"p\", class_=\"text-nowrap\").text.strip()\n",
    "    distance = record.find(\"p\", class_=\"text-nowrap distance-icon\")"
   ]
  },
  {
   "cell_type": "code",
   "execution_count": 29,
   "metadata": {},
   "outputs": [
    {
     "ename": "AttributeError",
     "evalue": "'str' object has no attribute 'head'",
     "output_type": "error",
     "traceback": [
      "\u001b[1;31m---------------------------------------------------------------------------\u001b[0m",
      "\u001b[1;31mAttributeError\u001b[0m                            Traceback (most recent call last)",
      "Cell \u001b[1;32mIn[29], line 1\u001b[0m\n\u001b[1;32m----> 1\u001b[0m distance\u001b[39m.\u001b[39;49mhead(\u001b[39m10\u001b[39m)\n",
      "\u001b[1;31mAttributeError\u001b[0m: 'str' object has no attribute 'head'"
     ]
    }
   ],
   "source": []
  },
  {
   "cell_type": "code",
   "execution_count": null,
   "metadata": {},
   "outputs": [],
   "source": []
  }
 ],
 "metadata": {
  "kernelspec": {
   "display_name": "snowflake",
   "language": "python",
   "name": "python3"
  },
  "language_info": {
   "codemirror_mode": {
    "name": "ipython",
    "version": 3
   },
   "file_extension": ".py",
   "mimetype": "text/x-python",
   "name": "python",
   "nbconvert_exporter": "python",
   "pygments_lexer": "ipython3",
   "version": "3.9.7"
  },
  "orig_nbformat": 4
 },
 "nbformat": 4,
 "nbformat_minor": 2
}
